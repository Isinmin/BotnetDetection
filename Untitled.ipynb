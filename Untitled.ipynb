{
 "cells": [
  {
   "cell_type": "markdown",
   "metadata": {},
   "source": [
    "# Предварительная обработка собранного трафика"
   ]
  },
  {
   "cell_type": "code",
   "execution_count": 2,
   "metadata": {},
   "outputs": [],
   "source": [
    "import pandas as pd\n",
    "import numpy as np\n",
    "\n",
    "columns = ['srcip','srcport','dstip','dstport','proto','total_fpackets','total_fvolume','total_bpackets','total_bvolume',\n",
    "'min_fpktl','mean_fpktl','max_fpktl','std_fpktl','min_bpktl','mean_bpktl','max_bpktl','std_bpktl','min_fiat','mean_fiat',\n",
    "'max_fiat','std_fiat','min_biat','mean_biat','max_biat','std_biat','duration','min_active','mean_active','max_active',\n",
    "'std_active','min_idle','mean_idle','max_idle','std_idle','sflow_fpackets','sflow_fbytes','sflow_bpackets','sflow_bbytes',\n",
    "'fpsh_cnt','bpsh_cnt','furg_cnt','burg_cnt','total_fhlen','total_bhlen','dscp']\n",
    "\n",
    "df = pd.read_csv('Datasets/testFlow.csv',names=columns)"
   ]
  },
  {
   "cell_type": "code",
   "execution_count": null,
   "metadata": {
    "scrolled": true
   },
   "outputs": [],
   "source": [
    "df.head()"
   ]
  },
  {
   "cell_type": "markdown",
   "metadata": {},
   "source": [
    "В наборе данных есть два типа протоколов: TCP и UDP. Для связи ботнеты используют IRC-протокол, который использует протокол TCP для транспорта, поэтому в дальнейшем будут использоваться потоки TCP."
   ]
  },
  {
   "cell_type": "code",
   "execution_count": 3,
   "metadata": {},
   "outputs": [
    {
     "data": {
      "text/plain": [
       "Index(['std_active', 'min_idle', 'mean_idle', 'max_idle', 'std_idle',\n",
       "       'furg_cnt', 'burg_cnt'],\n",
       "      dtype='object')"
      ]
     },
     "execution_count": 3,
     "metadata": {},
     "output_type": "execute_result"
    }
   ],
   "source": [
    "df = df[df['proto']==6]\n",
    "\n",
    "\n",
    "df.columns[(df == 0).all()] # проверка нулевых значений\n"
   ]
  },
  {
   "cell_type": "code",
   "execution_count": 8,
   "metadata": {},
   "outputs": [],
   "source": [
    "malicious_ips = [...] # ip зараженных узлов\n",
    "\n",
    "irc_attacks = [...] # набор адресов (src,dst) irc-соединения"
   ]
  },
  {
   "cell_type": "code",
   "execution_count": 9,
   "metadata": {},
   "outputs": [],
   "source": [
    "def flow_label(df):\n",
    "    labels = []\n",
    "    \n",
    "    for index,data in df.iterrows():\n",
    "\n",
    "        src = data['srcip']\n",
    "        dst = data['dstip']\n",
    "        \n",
    "\n",
    "        if((src in malicious_ips) or (dst in malicious_ips)):\n",
    "            labels.append(1)\n",
    "        elif(((src,dst) in irc_attacks) or ((dst,src) in irc_attacks)):\n",
    "            labels.append(1)\n",
    "        else:\n",
    "            labels.append(0)\n",
    "    \n",
    "    return labels\n",
    "\n",
    "df['label'] = flow_label(df)\n",
    "\n",
    "def flow_label(df):\n",
    "    labels = []\n",
    "    \n",
    "    for index,data in df.iterrows():\n",
    "\n",
    "        src = data['srcip']\n",
    "        dst = data['dstip']\n",
    "        \n",
    "\n",
    "        if((src in malicious_ips) or (dst in malicious_ips)):\n",
    "            labels.append(1)\n",
    "        elif(((src,dst) in irc_attacks) or ((dst,src) in irc_attacks)):\n",
    "            labels.append(1)\n",
    "        else:\n",
    "            labels.append(0)\n",
    "    \n",
    "    return labels\n",
    "\n",
    "df['label'] = flow_label(df)"
   ]
  },
  {
   "cell_type": "code",
   "execution_count": null,
   "metadata": {},
   "outputs": [],
   "source": []
  },
  {
   "cell_type": "markdown",
   "metadata": {},
   "source": [
    "Набор данных содержит потоки ботнетов, которые используют протоколы других типов. Таким образом, эти потоки будут исключены, поскольку их характеристики могут повлиять на классификацию."
   ]
  },
  {
   "cell_type": "code",
   "execution_count": 10,
   "metadata": {},
   "outputs": [],
   "source": [
    "other_botnets = ['147.32.84.160','192.168.3.35', '192.168.3.25', '192.168.3.65', '172.29.0.116']"
   ]
  },
  {
   "cell_type": "code",
   "execution_count": 11,
   "metadata": {},
   "outputs": [],
   "source": [
    "df = df[~df['srcip'].isin(other_botnets)]"
   ]
  },
  {
   "cell_type": "code",
   "execution_count": 12,
   "metadata": {},
   "outputs": [],
   "source": [
    "\n",
    "df = df[~df['dstip'].isin(other_botnets)]\n"
   ]
  },
  {
   "cell_type": "markdown",
   "metadata": {},
   "source": [
    "# Уменьшение выборки"
   ]
  },
  {
   "cell_type": "code",
   "execution_count": 13,
   "metadata": {},
   "outputs": [
    {
     "data": {
      "text/plain": [
       "Counter({1: 6379, 0: 86695})"
      ]
     },
     "execution_count": 13,
     "metadata": {},
     "output_type": "execute_result"
    }
   ],
   "source": [
    "from collections import Counter\n",
    "\n",
    "Counter(df['label'])"
   ]
  },
  {
   "cell_type": "code",
   "execution_count": 14,
   "metadata": {},
   "outputs": [],
   "source": [
    "_underscore = 6379\n",
    "_total = len(df[df['label'] == 0]) - _underscore #получение кол-ва элементов для удаления\n",
    "_df_underscore_index = df[df['label'] == 0].head(_total).index #набор данных для удаления\n",
    "df.drop(_df_underscore_index, inplace=True)# удаление поднабора данных из основного набора данных\n",
    "df.reset_index(drop=True,inplace=True)"
   ]
  },
  {
   "cell_type": "code",
   "execution_count": 15,
   "metadata": {},
   "outputs": [
    {
     "data": {
      "text/plain": [
       "Counter({1: 6379, 0: 6379})"
      ]
     },
     "execution_count": 15,
     "metadata": {},
     "output_type": "execute_result"
    }
   ],
   "source": [
    "Counter(df['label'])"
   ]
  },
  {
   "cell_type": "markdown",
   "metadata": {},
   "source": [
    "# Нормализация данных"
   ]
  },
  {
   "cell_type": "code",
   "execution_count": 16,
   "metadata": {},
   "outputs": [],
   "source": [
    "def flow_total_bytes():\n",
    "    total_bytes = []\n",
    "    for index,data in df.iterrows():\n",
    "\n",
    "        bytes_forward = data['total_fvolume']\n",
    "        bytes_backward = data['total_bvolume']\n",
    "\n",
    "        bytes_sum = bytes_forward + bytes_backward\n",
    "\n",
    "        total_bytes.append(bytes_sum)\n",
    "\n",
    "    df['total_bytes'] = total_bytes\n",
    "    \n",
    "def flow_total_packets():\n",
    "    total_packets = []\n",
    "    for index,data in df.iterrows():\n",
    "\n",
    "        packets_forward = data['total_fpackets']\n",
    "        packets_backward = data['total_bpackets']\n",
    "\n",
    "        packets_sum = packets_forward + packets_backward\n",
    "\n",
    "        total_packets.append(packets_sum)\n",
    "\n",
    "    df['total_packets'] = total_packets\n",
    "    \n",
    "def flow_total_bits():\n",
    "    total_bits = []\n",
    "    for index,data in df.iterrows():\n",
    "\n",
    "        total_bytes = data['total_bytes']\n",
    "\n",
    "        bits = total_bytes * 8\n",
    "\n",
    "        total_bits.append(bits)\n",
    "\n",
    "    df['total_bits'] = total_bits\n",
    "\n",
    "def bytes_per_packet():\n",
    "    bpp = []\n",
    "    for index,data in df.iterrows():\n",
    "\n",
    "        _bytes = data['total_bytes']\n",
    "        packets = data['total_packets']\n",
    "        val = _bytes / packets\n",
    "\n",
    "        bpp.append(val)\n",
    "\n",
    "    df['bpp'] = bpp\n",
    "    \n",
    "def bits_per_sec():\n",
    "    bps = []\n",
    "    for index,data in df.iterrows():\n",
    "\n",
    "        bits = data['total_bytes'] * 8\n",
    "        secs = data['duration'] * 0.000006\n",
    "        \n",
    "        if secs != 0:\n",
    "            val = bits/secs\n",
    "        else:\n",
    "            val = 0\n",
    "\n",
    "        bps.append(val)\n",
    "\n",
    "    df['bps'] = bps   \n",
    "\n",
    "def packets_per_sec():\n",
    "    pps = []\n",
    "    for index,data in df.iterrows():\n",
    "\n",
    "        packets = data['total_packets']\n",
    "        secs = data['duration'] * 0.000006\n",
    "\n",
    "        if secs != 0:\n",
    "            val = packets/secs\n",
    "        else:\n",
    "            val = 0\n",
    "\n",
    "        pps.append(val)\n",
    "\n",
    "    df['pps'] = pps   \n",
    "    \n",
    "def avg_var_iat():\n",
    "    iat = []\n",
    "    for index,data in df.iterrows():\n",
    "\n",
    "        f_iat = data['std_fiat'] \n",
    "        b_iat = data['std_biat']\n",
    "\n",
    "        f_iat = f_iat * f_iat\n",
    "        b_iat = b_iat * b_iat\n",
    "\n",
    "        avg = (f_iat + b_iat)/2\n",
    "\n",
    "        iat.append(avg)\n",
    "\n",
    "    df['var_iat'] = iat\n",
    "    \n",
    "def avg_iat():\n",
    "    iat = []\n",
    "    for index,data in df.iterrows():\n",
    "\n",
    "        f_iat = data['mean_fiat'] \n",
    "        b_iat = data['mean_biat']\n",
    "\n",
    "        avg = (f_iat + b_iat)/2\n",
    "\n",
    "        iat.append(avg)\n",
    "\n",
    "    df['avg_iat'] = iat\n",
    "    \n",
    "def pct_packets_pushed():\n",
    "    pctpp = []\n",
    "    for index,data in df.iterrows():\n",
    "        \n",
    "        packets_pushed = data['total_fpackets']\n",
    "        total_packets = data['total_packets']\n",
    "        \n",
    "        if total_packets != 0:\n",
    "            val = packets_pushed/total_packets\n",
    "        else:\n",
    "            val = 0\n",
    "        \n",
    "        pctpp.append(val)\n",
    "    \n",
    "    df['pct_packets_pushed'] = pctpp\n",
    "    \n",
    "def iopr():\n",
    "    iopr = []\n",
    "    for index,data in df.iterrows():\n",
    "        \n",
    "        packets_pushed = data['total_fpackets']\n",
    "        packets_pulled = data['total_bpackets']\n",
    "        \n",
    "        if packets_pushed != 0:\n",
    "            val = packets_pulled/packets_pushed\n",
    "        else:\n",
    "            val = 0\n",
    "            \n",
    "        iopr.append(val)\n",
    "        \n",
    "    df['iopr'] = iopr\n",
    "    \n",
    "def avg_payload_length():\n",
    "    # (bytes_header_forward + bytes_header_back) - total_bytes = payload length\n",
    "    # payload_length / packets = average payload length\n",
    "    avg_pl = []\n",
    "    for index,data in df.iterrows():\n",
    "        \n",
    "        header_f = data['total_fhlen']\n",
    "        header_b = data['total_bhlen']\n",
    "        total_b = data['total_bytes']\n",
    "        packets = data['total_packets']\n",
    "        \n",
    "        if packets != 0:\n",
    "            payload_length = total_b - (header_b + header_f)\n",
    "            avg = payload_length / packets\n",
    "        else:\n",
    "            avg = 0\n",
    "        \n",
    "        avg_pl.append(avg)\n",
    "    \n",
    "    df['avg_payload_length'] = avg_pl"
   ]
  },
  {
   "cell_type": "code",
   "execution_count": 17,
   "metadata": {},
   "outputs": [],
   "source": [
    "flow_total_bytes()\n",
    "flow_total_packets()\n",
    "flow_total_bits()\n",
    "bytes_per_packet()\n",
    "bits_per_sec()\n",
    "packets_per_sec()\n",
    "avg_var_iat()\n",
    "avg_iat()\n",
    "packets_per_sec()\n",
    "pct_packets_pushed()\n",
    "avg_payload_length()\n",
    "iopr()"
   ]
  },
  {
   "cell_type": "code",
   "execution_count": 18,
   "metadata": {},
   "outputs": [
    {
     "data": {
      "text/plain": [
       "Index(['srcip', 'srcport', 'dstip', 'dstport', 'proto', 'total_fpackets',\n",
       "       'total_fvolume', 'total_bpackets', 'total_bvolume', 'min_fpktl',\n",
       "       'mean_fpktl', 'max_fpktl', 'std_fpktl', 'min_bpktl', 'mean_bpktl',\n",
       "       'max_bpktl', 'std_bpktl', 'min_fiat', 'mean_fiat', 'max_fiat',\n",
       "       'std_fiat', 'min_biat', 'mean_biat', 'max_biat', 'std_biat', 'duration',\n",
       "       'min_active', 'mean_active', 'max_active', 'std_active', 'min_idle',\n",
       "       'mean_idle', 'max_idle', 'std_idle', 'sflow_fpackets', 'sflow_fbytes',\n",
       "       'sflow_bpackets', 'sflow_bbytes', 'fpsh_cnt', 'bpsh_cnt', 'furg_cnt',\n",
       "       'burg_cnt', 'total_fhlen', 'total_bhlen', 'dscp', 'label',\n",
       "       'total_bytes', 'total_packets', 'total_bits', 'bpp', 'bps', 'pps',\n",
       "       'var_iat', 'avg_iat', 'pct_packets_pushed', 'avg_payload_length',\n",
       "       'iopr'],\n",
       "      dtype='object')"
      ]
     },
     "execution_count": 18,
     "metadata": {},
     "output_type": "execute_result"
    }
   ],
   "source": [
    "df.columns"
   ]
  },
  {
   "cell_type": "code",
   "execution_count": 19,
   "metadata": {},
   "outputs": [],
   "source": [
    "df.to_csv('Datasets/trainset.csv')"
   ]
  },
  {
   "cell_type": "code",
   "execution_count": null,
   "metadata": {},
   "outputs": [],
   "source": [
    "from sklearn.lineral_model import LinearRegression\n",
    "from sklearn.metrics import accuracy_score\n",
    "\n",
    "linearReg = LinearRegression()\n",
    "linear"
   ]
  },
  {
   "cell_type": "code",
   "execution_count": null,
   "metadata": {},
   "outputs": [],
   "source": []
  }
 ],
 "metadata": {
  "kernelspec": {
   "display_name": "Python 3",
   "language": "python",
   "name": "python3"
  },
  "language_info": {
   "codemirror_mode": {
    "name": "ipython",
    "version": 3
   },
   "file_extension": ".py",
   "mimetype": "text/x-python",
   "name": "python",
   "nbconvert_exporter": "python",
   "pygments_lexer": "ipython3",
   "version": "3.6.1"
  }
 },
 "nbformat": 4,
 "nbformat_minor": 2
}
